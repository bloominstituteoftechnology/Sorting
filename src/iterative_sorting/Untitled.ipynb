{
 "cells": [
  {
   "cell_type": "markdown",
   "metadata": {},
   "source": [
    "### testing sorting"
   ]
  },
  {
   "cell_type": "code",
   "execution_count": 11,
   "metadata": {},
   "outputs": [],
   "source": [
    "def selection_sort( arr ):\n",
    "    # loop through n-1 elements\n",
    "    for i in range(0, len(arr) - 1):\n",
    "        cur_index = i\n",
    "        smallest_index = cur_index\n",
    "        # TO-DO: find next smallest element\n",
    "        # (hint, can do in 3 loc) \n",
    "        for j in range(i+1, len(arr)):\n",
    "            if arr[j] < arr[smallest_index]:\n",
    "                smallest_index = j\n",
    "            else:\n",
    "                pass\n",
    "\n",
    "        # TO-DO: swap\n",
    "        cur_val = arr[cur_index]\n",
    "        smallest_val = arr[smallest_index]\n",
    "        arr[cur_index] = smallest_val\n",
    "        arr[smallest_index] = cur_val\n",
    "\n",
    "\n",
    "    return arr"
   ]
  },
  {
   "cell_type": "code",
   "execution_count": 21,
   "metadata": {},
   "outputs": [],
   "source": []
  },
  {
   "cell_type": "code",
   "execution_count": 13,
   "metadata": {},
   "outputs": [
    {
     "data": {
      "text/plain": [
       "[1, 1, 3, 3, 4]"
      ]
     },
     "execution_count": 13,
     "metadata": {},
     "output_type": "execute_result"
    }
   ],
   "source": [
    "selection_sort(dog)"
   ]
  },
  {
   "cell_type": "code",
   "execution_count": 41,
   "metadata": {},
   "outputs": [],
   "source": [
    "def bubble_sort( arr ):\n",
    "    counter = 1\n",
    "    woof = \"dog\" # when swapped is false after complete run though\n",
    "                    # stop the while loop\n",
    "    while counter < len(arr):\n",
    "        for i in range(0, len(arr) - counter):\n",
    "            swapped = False\n",
    "            i_val = arr[i]\n",
    "            next_val = arr[i+1]\n",
    "            \n",
    "            if i_val > next_val:\n",
    "                arr[i] = next_val\n",
    "                arr[i+1] = i_val\n",
    "            else:\n",
    "                pass\n",
    "        counter += 1\n",
    "    return arr"
   ]
  },
  {
   "cell_type": "code",
   "execution_count": 43,
   "metadata": {},
   "outputs": [
    {
     "data": {
      "text/plain": [
       "[1, 1, 3, 3, 3, 4, 4, 6, 7, 8, 9, 9, 11, 45, 88]"
      ]
     },
     "execution_count": 43,
     "metadata": {},
     "output_type": "execute_result"
    }
   ],
   "source": [
    "dog = [3,7,8,9,4,11,45,3,6,9,88,1,4,3,1]\n",
    "bubble_sort(dog)"
   ]
  },
  {
   "cell_type": "code",
   "execution_count": 26,
   "metadata": {},
   "outputs": [
    {
     "data": {
      "text/plain": [
       "[1, 3, 3, 1, 4]"
      ]
     },
     "execution_count": 26,
     "metadata": {},
     "output_type": "execute_result"
    }
   ],
   "source": [
    "dog"
   ]
  },
  {
   "cell_type": "code",
   "execution_count": 31,
   "metadata": {},
   "outputs": [],
   "source": [
    "dog = [True]*3"
   ]
  },
  {
   "cell_type": "code",
   "execution_count": 32,
   "metadata": {},
   "outputs": [
    {
     "data": {
      "text/plain": [
       "[True, True, True]"
      ]
     },
     "execution_count": 32,
     "metadata": {},
     "output_type": "execute_result"
    }
   ],
   "source": [
    "dog"
   ]
  },
  {
   "cell_type": "code",
   "execution_count": null,
   "metadata": {},
   "outputs": [],
   "source": []
  }
 ],
 "metadata": {
  "kernelspec": {
   "display_name": "Python 3",
   "language": "python",
   "name": "python3"
  },
  "language_info": {
   "codemirror_mode": {
    "name": "ipython",
    "version": 3
   },
   "file_extension": ".py",
   "mimetype": "text/x-python",
   "name": "python",
   "nbconvert_exporter": "python",
   "pygments_lexer": "ipython3",
   "version": "3.6.8"
  }
 },
 "nbformat": 4,
 "nbformat_minor": 2
}
