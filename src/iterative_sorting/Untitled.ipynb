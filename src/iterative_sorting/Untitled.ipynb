{
 "cells": [
  {
   "cell_type": "markdown",
   "metadata": {},
   "source": [
    "### testing sorting"
   ]
  },
  {
   "cell_type": "code",
   "execution_count": 8,
   "metadata": {},
   "outputs": [],
   "source": [
    "def selection_sort( arr ):\n",
    "    # loop through n-1 elements\n",
    "    for i in range(0, len(arr) - 1):\n",
    "        cur_index = i\n",
    "        smallest_index = cur_index\n",
    "        # TO-DO: find next smallest element\n",
    "        # (hint, can do in 3 loc) \n",
    "        for j in range(i+1, len(arr)):\n",
    "            if arr[j] < arr[smallest_index]:\n",
    "                smallest_index = j\n",
    "\n",
    "\n",
    "        # TO-DO: swap\n",
    "        cur_val = arr[cur_index]\n",
    "        smallest_val = arr[smallest_index]\n",
    "        arr[cur_index] = smallest_val\n",
    "        arr[smallest_index] = cur_val\n",
    "\n",
    "\n",
    "    return arr"
   ]
  },
  {
   "cell_type": "code",
   "execution_count": 9,
   "metadata": {},
   "outputs": [],
   "source": [
    "dog = [3,1,4,3,1]"
   ]
  },
  {
   "cell_type": "code",
   "execution_count": 10,
   "metadata": {},
   "outputs": [
    {
     "data": {
      "text/plain": [
       "[1, 1, 3, 3, 4]"
      ]
     },
     "execution_count": 10,
     "metadata": {},
     "output_type": "execute_result"
    }
   ],
   "source": [
    "selection_sort(dog)"
   ]
  },
  {
   "cell_type": "code",
   "execution_count": null,
   "metadata": {},
   "outputs": [],
   "source": []
  }
 ],
 "metadata": {
  "kernelspec": {
   "display_name": "Python 3",
   "language": "python",
   "name": "python3"
  },
  "language_info": {
   "codemirror_mode": {
    "name": "ipython",
    "version": 3
   },
   "file_extension": ".py",
   "mimetype": "text/x-python",
   "name": "python",
   "nbconvert_exporter": "python",
   "pygments_lexer": "ipython3",
   "version": "3.6.8"
  }
 },
 "nbformat": 4,
 "nbformat_minor": 2
}
